{
  "nbformat": 4,
  "nbformat_minor": 0,
  "metadata": {
    "colab": {
      "name": "Kernel density estimation.ipynb",
      "provenance": []
    },
    "kernelspec": {
      "name": "python3",
      "display_name": "Python 3"
    },
    "language_info": {
      "name": "python"
    }
  },
  "cells": [
    {
      "cell_type": "code",
      "metadata": {
        "id": "sBK-7d6JvY2g"
      },
      "source": [
        "import numpy as np\n",
        "import pandas as pd\n",
        "import matplotlib.pyplot as plt\n",
        "%matplotlib inline"
      ],
      "execution_count": 1,
      "outputs": []
    },
    {
      "cell_type": "markdown",
      "metadata": {
        "id": "IBaj2ZgJwDKv"
      },
      "source": [
        "Histogram sampling"
      ]
    },
    {
      "cell_type": "code",
      "metadata": {
        "colab": {
          "base_uri": "https://localhost:8080/",
          "height": 266
        },
        "id": "0bBokHZfwF3e",
        "outputId": "521dbbca-c4d5-4919-9e3e-45a218984c22"
      },
      "source": [
        "data=np.random.normal(loc=50,scale=5,size=1000)\n",
        "plt.hist(data,bins=10)\n",
        "plt.show()"
      ],
      "execution_count": 8,
      "outputs": [
        {
          "output_type": "display_data",
          "data": {
            "image/png": "[encoded data removed]",
            "text/plain": [
              "<Figure size 432x288 with 1 Axes>"
            ]
          },
          "metadata": {
            "needs_background": "light"
          }
        }
      ]
    },
    {
      "cell_type": "markdown",
      "metadata": {
        "id": "dVskrk1YwAtS"
      },
      "source": [
        "Parametric density function"
      ]
    },
    {
      "cell_type": "code",
      "metadata": {
        "id": "FUbB5okDv_J5"
      },
      "source": [
        "sample_mean=np.mean(data)\n",
        "sample_std=np.std(data)"
      ],
      "execution_count": 10,
      "outputs": []
    },
    {
      "cell_type": "code",
      "metadata": {
        "id": "b7VGpzP_xdX9"
      },
      "source": [
        "from scipy.stats import norm\n",
        "dist=norm(sample_mean,sample_std)"
      ],
      "execution_count": 11,
      "outputs": []
    },
    {
      "cell_type": "code",
      "metadata": {
        "id": "JgPkIB3nx_B7"
      },
      "source": [
        "s_rand=[dist.pdf(value) for value in range(40,60)]"
      ],
      "execution_count": 15,
      "outputs": []
    },
    {
      "cell_type": "code",
      "metadata": {
        "colab": {
          "base_uri": "https://localhost:8080/",
          "height": 265
        },
        "id": "qhHfXvMqyNaS",
        "outputId": "984519d5-582c-4356-eed1-d8a017d51649"
      },
      "source": [
        "plt.plot([value for value in range(40,60)],s_rand)\n",
        "plt.hist(data,bins=10,density=True)\n",
        "plt.show()"
      ],
      "execution_count": 19,
      "outputs": [
        {
          "output_type": "display_data",
          "data": {
            "image/png": "[encoded data removed]",
            "text/plain": [
              "<Figure size 432x288 with 1 Axes>"
            ]
          },
          "metadata": {
            "needs_background": "light"
          }
        }
      ]
    },
    {
      "cell_type": "markdown",
      "metadata": {
        "id": "fgEpnMs6zBSY"
      },
      "source": [
        "Non Parametric Distribution Estimation"
      ]
    },
    {
      "cell_type": "markdown",
      "metadata": {
        "id": "73LqsUPO9ddP"
      },
      "source": [
        "Combining two different normal distribution into one to create a bimodal distribution"
      ]
    },
    {
      "cell_type": "code",
      "metadata": {
        "colab": {
          "base_uri": "https://localhost:8080/",
          "height": 265
        },
        "id": "IG5_BT5iyfGW",
        "outputId": "6c52c487-3f0a-488f-9798-b2ffb453919f"
      },
      "source": [
        "from numpy.random import normal\n",
        "from numpy import hstack\n",
        "# generate a sample\n",
        "sample1 = normal(loc=20, scale=5, size=300)\n",
        "sample2 = normal(loc=40, scale=5, size=700)\n",
        "sample = hstack((sample1, sample2))\n",
        "# plot the histogram\n",
        "plt.hist(sample, bins=50)\n",
        "plt.show()"
      ],
      "execution_count": 20,
      "outputs": [
        {
          "output_type": "display_data",
          "data": {
            "image/png": "[encoded data removed]",
            "text/plain": [
              "<Figure size 432x288 with 1 Axes>"
            ]
          },
          "metadata": {
            "needs_background": "light"
          }
        }
      ]
    },
    {
      "cell_type": "code",
      "metadata": {
        "id": "46-0Snw29uom"
      },
      "source": [
        "from sklearn.neighbors import KernelDensity"
      ],
      "execution_count": 23,
      "outputs": []
    },
    {
      "cell_type": "code",
      "metadata": {
        "colab": {
          "base_uri": "https://localhost:8080/"
        },
        "id": "wvaRNIeQ_DnS",
        "outputId": "4ac4e164-0473-4472-eae8-376990e90ae3"
      },
      "source": [
        "model = KernelDensity(bandwidth=1, kernel='gaussian')\n",
        "sample = sample.reshape((len(sample), 1))\n",
        "model.fit(sample)"
      ],
      "execution_count": 36,
      "outputs": [
        {
          "output_type": "execute_result",
          "data": {
            "text/plain": [
              "KernelDensity(algorithm='auto', atol=0, bandwidth=1, breadth_first=True,\n",
              "              kernel='gaussian', leaf_size=40, metric='euclidean',\n",
              "              metric_params=None, rtol=0)"
            ]
          },
          "metadata": {},
          "execution_count": 36
        }
      ]
    },
    {
      "cell_type": "code",
      "metadata": {
        "id": "R9NgebCV_Rkg"
      },
      "source": [
        "values = np.asarray([value for value in range(1, 60)])\n",
        "values = values.reshape((len(values), 1))\n",
        "probabilities = model.score_samples(values)\n",
        "probabilities = np.exp(probabilities)"
      ],
      "execution_count": 37,
      "outputs": []
    },
    {
      "cell_type": "code",
      "metadata": {
        "colab": {
          "base_uri": "https://localhost:8080/",
          "height": 265
        },
        "id": "0Bn3LsR4_iDT",
        "outputId": "ee119312-ec18-45f4-97ce-d2e70ac15739"
      },
      "source": [
        "plt.hist(sample, bins=50, density=True)\n",
        "plt.plot(values[:], probabilities)\n",
        "plt.show()"
      ],
      "execution_count": 38,
      "outputs": [
        {
          "output_type": "display_data",
          "data": {
            "image/png": "[encoded data removed]",
            "text/plain": [
              "<Figure size 432x288 with 1 Axes>"
            ]
          },
          "metadata": {
            "needs_background": "light"
          }
        }
      ]
    },
    {
      "cell_type": "code",
      "metadata": {
        "id": "g26M85x6_ri-"
      },
      "source": [
        ""
      ],
      "execution_count": null,
      "outputs": []
    }
  ]
}