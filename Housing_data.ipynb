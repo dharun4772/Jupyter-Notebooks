{
  "nbformat": 4,
  "nbformat_minor": 0,
  "metadata": {
    "colab": {
      "name": "Housing data.ipynb",
      "provenance": [],
      "collapsed_sections": []
    },
    "kernelspec": {
      "name": "python3",
      "display_name": "Python 3"
    },
    "language_info": {
      "name": "python"
    }
  },
  "cells": [
    {
      "cell_type": "code",
      "metadata": {
        "id": "yTnFYMbRuUq1"
      },
      "source": [
        "import pandas as pd\n",
        "import numpy as np\n",
        "from sklearn.linear_model import LinearRegression\n",
        "import matplotlib.pyplot as plt\n",
        "import seaborn as sns\n",
        "%matplotlib inline\n",
        "import warnings"
      ],
      "execution_count": 1,
      "outputs": []
    },
    {
      "cell_type": "code",
      "metadata": {
        "id": "CAtwNuAYwvk1"
      },
      "source": [
        "warnings.filterwarnings(action=\"ignore\",module=\"scipy\",message=\"^internal gelsd\")"
      ],
      "execution_count": 2,
      "outputs": []
    },
    {
      "cell_type": "code",
      "metadata": {
        "id": "SE6XwknfxN3v"
      },
      "source": [
        "house_df=pd.read_csv(\"sample.csv\")"
      ],
      "execution_count": 3,
      "outputs": []
    },
    {
      "cell_type": "code",
      "metadata": {
        "colab": {
          "base_uri": "https://localhost:8080/",
          "height": 202
        },
        "id": "o3kfi40RxkqO",
        "outputId": "2d0e0cce-111e-4f59-c53e-8f9a0c419471"
      },
      "source": [
        "house_df.head()"
      ],
      "execution_count": 4,
      "outputs": [
        {
          "output_type": "execute_result",
          "data": {
            "text/html": [
              "<div>\n",
              "<style scoped>\n",
              "    .dataframe tbody tr th:only-of-type {\n",
              "        vertical-align: middle;\n",
              "    }\n",
              "\n",
              "    .dataframe tbody tr th {\n",
              "        vertical-align: top;\n",
              "    }\n",
              "\n",
              "    .dataframe thead th {\n",
              "        text-align: right;\n",
              "    }\n",
              "</style>\n",
              "<table border=\"1\" class=\"dataframe\">\n",
              "  <thead>\n",
              "    <tr style=\"text-align: right;\">\n",
              "      <th></th>\n",
              "      <th>id</th>\n",
              "      <th>sqft_living</th>\n",
              "      <th>price</th>\n",
              "    </tr>\n",
              "  </thead>\n",
              "  <tbody>\n",
              "    <tr>\n",
              "      <th>0</th>\n",
              "      <td>0</td>\n",
              "      <td>1180</td>\n",
              "      <td>221900.0</td>\n",
              "    </tr>\n",
              "    <tr>\n",
              "      <th>1</th>\n",
              "      <td>1</td>\n",
              "      <td>2570</td>\n",
              "      <td>538000.0</td>\n",
              "    </tr>\n",
              "    <tr>\n",
              "      <th>2</th>\n",
              "      <td>2</td>\n",
              "      <td>770</td>\n",
              "      <td>180000.0</td>\n",
              "    </tr>\n",
              "    <tr>\n",
              "      <th>3</th>\n",
              "      <td>3</td>\n",
              "      <td>1960</td>\n",
              "      <td>604000.0</td>\n",
              "    </tr>\n",
              "    <tr>\n",
              "      <th>4</th>\n",
              "      <td>4</td>\n",
              "      <td>1680</td>\n",
              "      <td>510000.0</td>\n",
              "    </tr>\n",
              "  </tbody>\n",
              "</table>\n",
              "</div>"
            ],
            "text/plain": [
              "   id  sqft_living     price\n",
              "0   0         1180  221900.0\n",
              "1   1         2570  538000.0\n",
              "2   2          770  180000.0\n",
              "3   3         1960  604000.0\n",
              "4   4         1680  510000.0"
            ]
          },
          "metadata": {
            "tags": []
          },
          "execution_count": 4
        }
      ]
    },
    {
      "cell_type": "code",
      "metadata": {
        "colab": {
          "base_uri": "https://localhost:8080/"
        },
        "id": "q5EtFypXxvsP",
        "outputId": "b474c2e0-a9b2-4160-98e7-f1c911f42be6"
      },
      "source": [
        "house_df.isnull().any()"
      ],
      "execution_count": 5,
      "outputs": [
        {
          "output_type": "execute_result",
          "data": {
            "text/plain": [
              "id             False\n",
              "sqft_living    False\n",
              "price           True\n",
              "dtype: bool"
            ]
          },
          "metadata": {
            "tags": []
          },
          "execution_count": 5
        }
      ]
    },
    {
      "cell_type": "code",
      "metadata": {
        "id": "W763o1-Kxy9b"
      },
      "source": [
        "house_df.drop(\"id\",inplace=True,axis=1)"
      ],
      "execution_count": 6,
      "outputs": []
    },
    {
      "cell_type": "code",
      "metadata": {
        "id": "3-bSMvbVx-cW"
      },
      "source": [
        "house_df.drop([1781],inplace=True)"
      ],
      "execution_count": 7,
      "outputs": []
    },
    {
      "cell_type": "code",
      "metadata": {
        "id": "ei1uR63kysb5"
      },
      "source": [
        "X=house_df.iloc[:,:1].values"
      ],
      "execution_count": 8,
      "outputs": []
    },
    {
      "cell_type": "code",
      "metadata": {
        "id": "ftwR24snehf5"
      },
      "source": [
        "Y=house_df.iloc[:,-1].values"
      ],
      "execution_count": 9,
      "outputs": []
    },
    {
      "cell_type": "code",
      "metadata": {
        "id": "oTvjwDLKe1-4"
      },
      "source": [
        "from sklearn.model_selection import train_test_split\n",
        "X_train,X_test,Y_train,Y_test=train_test_split(X,Y,test_size=0.25,random_state=5)"
      ],
      "execution_count": 10,
      "outputs": []
    },
    {
      "cell_type": "code",
      "metadata": {
        "colab": {
          "base_uri": "https://localhost:8080/"
        },
        "id": "FbxNmxVVgQQ0",
        "outputId": "1741edc1-d084-48fa-98e7-79838a893315"
      },
      "source": [
        "simple_lr=LinearRegression()\n",
        "simple_lr.fit(X_train,Y_train)"
      ],
      "execution_count": 11,
      "outputs": [
        {
          "output_type": "execute_result",
          "data": {
            "text/plain": [
              "LinearRegression(copy_X=True, fit_intercept=True, n_jobs=None, normalize=False)"
            ]
          },
          "metadata": {
            "tags": []
          },
          "execution_count": 11
        }
      ]
    },
    {
      "cell_type": "code",
      "metadata": {
        "id": "FbdFECqxgd10"
      },
      "source": [
        "Y_pred=simple_lr.predict(X_test)"
      ],
      "execution_count": 12,
      "outputs": []
    },
    {
      "cell_type": "code",
      "metadata": {
        "colab": {
          "base_uri": "https://localhost:8080/",
          "height": 295
        },
        "id": "VjMcQsLIgmxh",
        "outputId": "00a8afbe-0ddd-4254-a763-a90a2f183811"
      },
      "source": [
        "import numpy as np\n",
        "plt.scatter(X_train,Y_train,color=\"r\")\n",
        "plt.title(\"Sqft Living vs Price\")\n",
        "plt.xlabel(\"Square Feet\")\n",
        "plt.ylabel(\"House Price\")\n",
        "plt.plot(X_train,simple_lr.predict(X_train),color=\"b\")\n",
        "plt.show()"
      ],
      "execution_count": 13,
      "outputs": [
        {
          "output_type": "display_data",
          "data": {
            "image/png": "[encoded data removed]",
            "text/plain": [
              "<Figure size 432x288 with 1 Axes>"
            ]
          },
          "metadata": {
            "tags": [],
            "needs_background": "light"
          }
        }
      ]
    },
    {
      "cell_type": "code",
      "metadata": {
        "colab": {
          "base_uri": "https://localhost:8080/"
        },
        "id": "g9x1VoCugxCO",
        "outputId": "9298a4fd-ad38-4094-ee2c-f73c27dd84bb"
      },
      "source": [
        "house_df.info()"
      ],
      "execution_count": 14,
      "outputs": [
        {
          "output_type": "stream",
          "text": [
            "<class 'pandas.core.frame.DataFrame'>\n",
            "Int64Index: 1781 entries, 0 to 1780\n",
            "Data columns (total 2 columns):\n",
            " #   Column       Non-Null Count  Dtype  \n",
            "---  ------       --------------  -----  \n",
            " 0   sqft_living  1781 non-null   int64  \n",
            " 1   price        1781 non-null   float64\n",
            "dtypes: float64(1), int64(1)\n",
            "memory usage: 41.7 KB\n"
          ],
          "name": "stdout"
        }
      ]
    },
    {
      "cell_type": "code",
      "metadata": {
        "colab": {
          "base_uri": "https://localhost:8080/",
          "height": 295
        },
        "id": "yMnZZu-Biu5l",
        "outputId": "7c7a87cc-38c2-4461-a0ab-01669128e39b"
      },
      "source": [
        "plt.scatter(X_test,Y_test,color=\"r\")\n",
        "plt.plot(X_test,Y_pred,color=\"b\")\n",
        "plt.title(\"sqft living vs Price\")\n",
        "plt.xlabel(\"Square Feet\")\n",
        "plt.ylabel(\"House Price\")\n",
        "plt.show()"
      ],
      "execution_count": 16,
      "outputs": [
        {
          "output_type": "display_data",
          "data": {
            "image/png": "[encoded data removed]",
            "text/plain": [
              "<Figure size 432x288 with 1 Axes>"
            ]
          },
          "metadata": {
            "tags": [],
            "needs_background": "light"
          }
        }
      ]
    },
    {
      "cell_type": "code",
      "metadata": {
        "id": "rpszfdwylEsp"
      },
      "source": [
        "from sklearn.metrics import mean_squared_error"
      ],
      "execution_count": 17,
      "outputs": []
    },
    {
      "cell_type": "code",
      "metadata": {
        "id": "uPPlWzbMB5ni"
      },
      "source": [
        "from math import sqrt"
      ],
      "execution_count": 18,
      "outputs": []
    },
    {
      "cell_type": "code",
      "metadata": {
        "colab": {
          "base_uri": "https://localhost:8080/"
        },
        "id": "5uL7BFiEB8TV",
        "outputId": "f64b6eed-2400-47dc-a191-fc7880ae9849"
      },
      "source": [
        "rmse=sqrt(mean_squared_error(Y_test,Y_pred))\n",
        "from sklearn.metrics import r2_score\n",
        "r2=r2_score(Y_test,Y_pred)\n",
        "adjusted_r2=(1-r2)*(len(Y)-1)/(len(Y)-len(simple_lr.coef_-1))\n",
        "rmse, r2, adjusted_r2, simple_lr.coef_, simple_lr.intercept_"
      ],
      "execution_count": 21,
      "outputs": [
        {
          "output_type": "execute_result",
          "data": {
            "text/plain": [
              "(306244.95684552076,\n",
              " 0.5214894571770117,\n",
              " 0.4785105428229883,\n",
              " array([275.47171976]),\n",
              " -41422.75233411533)"
            ]
          },
          "metadata": {
            "tags": []
          },
          "execution_count": 21
        }
      ]
    },
    {
      "cell_type": "code",
      "metadata": {
        "colab": {
          "base_uri": "https://localhost:8080/"
        },
        "id": "2FaXUnmiFCt3",
        "outputId": "a6926b26-ce08-4f1d-ab0c-6776b6543b24"
      },
      "source": [
        "import numpy as np\n",
        "x_unseen=np.array([1500]).reshape(1,1)\n",
        "simple_lr.predict(x_unseen)"
      ],
      "execution_count": 22,
      "outputs": [
        {
          "output_type": "execute_result",
          "data": {
            "text/plain": [
              "array([371784.82730603])"
            ]
          },
          "metadata": {
            "tags": []
          },
          "execution_count": 22
        }
      ]
    },
    {
      "cell_type": "code",
      "metadata": {
        "id": "-rDkMWfeFd5-"
      },
      "source": [
        ""
      ],
      "execution_count": null,
      "outputs": []
    }
  ]
}